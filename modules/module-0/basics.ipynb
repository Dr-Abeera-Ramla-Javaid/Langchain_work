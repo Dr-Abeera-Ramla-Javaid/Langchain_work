{
  "cells": [
    {
      "cell_type": "markdown",
      "metadata": {
        "id": "view-in-github",
        "colab_type": "text"
      },
      "source": [
        "<a href=\"https://colab.research.google.com/github/Dr-Abeera-Ramla-Javaid/Langchain_work/blob/main/modules/module-0/basics.ipynb\" target=\"_parent\"><img src=\"https://colab.research.google.com/assets/colab-badge.svg\" alt=\"Open In Colab\"/></a>"
      ]
    },
    {
      "cell_type": "markdown",
      "id": "ef597741-3211-4ecc-92f7-f58023ee237e",
      "metadata": {
        "id": "ef597741-3211-4ecc-92f7-f58023ee237e"
      },
      "source": [
        "# LangChain Academy\n",
        "\n",
        "Welcome to LangChain Academy!\n",
        "\n",
        "## Context\n",
        "\n",
        "At LangChain, we aim to make it easy to build LLM applications. One type of LLM application you can build is an agent. There’s a lot of excitement around building agents because they can automate a wide range of tasks that were previously impossible.\n",
        "\n",
        "In practice though, it is incredibly difficult to build systems that reliably execute on these tasks. As we’ve worked with our users to put agents into production, we’ve learned that more control is often necessary. You might need an agent to always call a specific tool first or use different prompts based on its state.\n",
        "\n",
        "To tackle this problem, we’ve built [LangGraph](https://langchain-ai.github.io/langgraph/) — a framework for building agent and multi-agent applications. Separate from the LangChain package, LangGraph’s core design philosophy is to help developers add better precision and control into agent workflows, suitable for the complexity of real-world systems.\n",
        "\n",
        "## Course Structure\n",
        "\n",
        "The course is structured as a set of modules, with each module focused on a particular theme related to LangGraph. You will see a folder for each module, which contains a series of notebooks. A video will accompany each notebook to help walk through the concepts, but the notebooks are also stand-alone, meaning that they contain explanations and can be viewed independent of the videos. Each module folder also contains a `studio` folder, which contains a set of graphs that can be loaded into [LangGraph Studio](https://github.com/langchain-ai/langgraph-studio), our IDE for building LangGraph applications.\n",
        "\n",
        "## Setup\n",
        "\n",
        "Before you begin, please follow the instructions in the `README` to create an environment and install dependencies.\n",
        "\n",
        "## Chat models\n",
        "\n",
        "In this course, we'll be using [Chat Models](https://python.langchain.com/v0.2/docs/concepts/#chat-models), which do a few things take a sequence of messages as inputs and return chat messages as outputs. LangChain does not host any Chat Models, rather we rely on third party integrations. [Here](https://python.langchain.com/v0.2/docs/integrations/chat/) is a list of 3rd party chat model integrations within LangChain! By default, the course with use [GEMINI_API_KEY](https://ai.google.dev/gemini-api/docs/api-key/) because it is both popular and performant. As noted, please ensure that you have an `GEMINI_API_KEY`.\n",
        "\n",
        "Let's check that your `GEMINI_API_KEY` is set and, if not, you will be asked to enter it."
      ]
    },
    {
      "cell_type": "code",
      "source": [
        " %%capture --no-stderr\n",
        "!pip install -q langchain_google_genai langchain_core langchain_community tavily-python\n",
        "!pip install -q langchain_google_genai langchain_core"
      ],
      "metadata": {
        "id": "4htYPR6U3NRR"
      },
      "id": "4htYPR6U3NRR",
      "execution_count": null,
      "outputs": []
    },
    {
      "cell_type": "code",
      "source": [
        "from langchain_google_genai import ChatGoogleGenerativeAI\n",
        "\n",
        "from google.colab import userdata\n",
        "GEMINI_API_KEY = userdata.get('GEMINI_API_KEY')\n",
        "llm = ChatGoogleGenerativeAI(\n",
        "    model='gemini-1.5-flash',\n",
        "    api_key= GEMINI_API_KEY,\n",
        "    temperature=0\n",
        ")"
      ],
      "metadata": {
        "id": "ipsiAKX73DYX"
      },
      "id": "ipsiAKX73DYX",
      "execution_count": null,
      "outputs": []
    },
    {
      "cell_type": "code",
      "source": [
        "result = llm.invoke('Hello Gemini')\n",
        "result"
      ],
      "metadata": {
        "id": "f6yS0Gd23LBT"
      },
      "id": "f6yS0Gd23LBT",
      "execution_count": null,
      "outputs": []
    },
    {
      "cell_type": "code",
      "source": [
        "from os import name\n",
        "from langchain_core.messages import HumanMessage, AIMessage\n",
        "# msg= HumanMessage(content=\"hello gemini\", name= \"Abeera\")\n",
        "\n",
        "messages =[\n",
        "     HumanMessage(content=\"hello gemini\", name= \"Abeera\"),\n",
        "     AIMessage(content='Hello there! How can I help you today?\\n', name= 'AI Assistant'),\n",
        "     HumanMessage(content= \"what is LANGCHAIN?\", name= \"Abeera\"),\n",
        "     AIMessage(content=\"LangChain is a framework for developing applications powered by language models.  It's designed to make it easier to build applications that use LLMs (Large Language Models) effectively, addressing some of the limitations and complexities involved.\"),\n",
        "     HumanMessage(content= \"How Can I Learn?\", name= 'Abeera')\n",
        "     ]\n",
        "\n",
        "\n",
        "llm.invoke(messages)"
      ],
      "metadata": {
        "colab": {
          "base_uri": "https://localhost:8080/"
        },
        "id": "r-tCt750BW6Q",
        "outputId": "de4d6165-f281-478c-898c-ee039cfe6df5"
      },
      "execution_count": null,
      "outputs": [
        {
          "output_type": "execute_result",
          "data": {
            "text/plain": [
              "AIMessage(content='There are several ways you can learn LangChain:\\n\\n**1. Official Documentation:** The best place to start is the official LangChain documentation.  It\\'s well-structured and provides comprehensive tutorials and examples.  Look for their website and their GitHub repository.\\n\\n**2. Tutorials and Examples:**  Many tutorials and examples are available online. Search for \"LangChain tutorial\" on YouTube, Google, or other platforms.  Look for tutorials that cover specific aspects you\\'re interested in, such as integrating with specific LLMs or building particular types of applications.\\n\\n**3. GitHub Repository:** Explore the LangChain GitHub repository.  You\\'ll find the source code, examples, and potentially community contributions that can help you understand how things work under the hood.  Reading the code can be a great way to deepen your understanding.\\n\\n**4. Blogs and Articles:** Many developers are writing blog posts and articles about their experiences with LangChain.  Searching for relevant keywords will turn up many helpful resources.\\n\\n**5. Community Forums and Discussions:** Engage with the LangChain community.  There are likely forums or online communities (possibly on Reddit or Discord) where you can ask questions and learn from others\\' experiences.\\n\\n**6. Build Projects:** The most effective way to learn is by doing.  Start with small projects and gradually increase the complexity.  Try building a simple application using LangChain and an LLM you\\'re familiar with.  This hands-on experience will solidify your understanding.\\n\\n**7. Courses (if available):** Check online learning platforms like Coursera, Udemy, or edX.  While LangChain is relatively new, courses might emerge as its popularity grows.\\n\\n\\nTo get started effectively, I recommend focusing on the official documentation and then supplementing your learning with tutorials and hands-on projects.  Start with a simple project, like a basic chatbot or a question-answering system, to get a feel for the framework.  Remember to break down complex tasks into smaller, manageable steps.\\n', additional_kwargs={}, response_metadata={'prompt_feedback': {'block_reason': 0, 'safety_ratings': []}, 'finish_reason': 'STOP', 'safety_ratings': []}, id='run-6f343c4d-1c5b-4f0e-a87c-5f6024737ec1-0', usage_metadata={'input_tokens': 74, 'output_tokens': 412, 'total_tokens': 486, 'input_token_details': {'cache_read': 0}})"
            ]
          },
          "metadata": {},
          "execution_count": 6
        }
      ],
      "id": "r-tCt750BW6Q"
    },
    {
      "cell_type": "code",
      "source": [
        "import os\n",
        "from google.colab import userdata\n",
        "TAVILY_API_KEY = userdata.get('TAVILY_API_KEY')\n",
        "\n",
        "from langchain_community.tools.tavily_search import TavilySearchResults\n",
        "os.environ[\"TAVILY_API_KEY\"] = userdata.get('TAVILY_API_KEY')\n",
        "# tool= TavilySearchResults(max_results=2)\n",
        "tavily_search= TavilySearchResults(max_results=3)\n",
        "search_docs = tavily_search.invoke('What is LangGraph?')"
      ],
      "metadata": {
        "id": "nDwxVxEMG5P2"
      },
      "execution_count": null,
      "outputs": [],
      "id": "nDwxVxEMG5P2"
    },
    {
      "cell_type": "code",
      "source": [
        "search_docs"
      ],
      "metadata": {
        "id": "k8VzYD4xJbvO",
        "outputId": "8be3d098-6e76-4116-d72e-af17941e6a84",
        "colab": {
          "base_uri": "https://localhost:8080/"
        }
      },
      "execution_count": null,
      "outputs": [
        {
          "output_type": "execute_result",
          "data": {
            "text/plain": [
              "[{'url': 'https://www.langchain.com/langgraph',\n",
              "  'content': 'LangGraph is a stateful, orchestration framework that brings added control to agent workflows. LangGraph Platform is a service for deploying and scaling LangGraph applications, with an opinionated API for building agent UXs, plus an integrated developer studio.'},\n",
              " {'url': 'https://www.datacamp.com/tutorial/langgraph-tutorial',\n",
              "  'content': 'LangGraph is a library within the LangChain ecosystem designed to tackle these challenges head-on. LangGraph provides a framework for defining, coordinating, and executing multiple LLM agents (or chains) in a structured manner. It simplifies the development process by enabling the creation of cyclical graphs, which are essential for developing'},\n",
              " {'url': 'https://towardsdatascience.com/from-basics-to-advanced-exploring-langgraph-e8c1cf4db787',\n",
              "  'content': \"LangGraph is a low-level framework that offers extensive customisation options, allowing you to build precisely what you need. Since LangGraph is built on top of LangChain, it's seamlessly integrated into its ecosystem, making it easy to leverage existing tools and components. However, there are areas where LangGrpah could be improved:\"}]"
            ]
          },
          "metadata": {},
          "execution_count": 11
        }
      ],
      "id": "k8VzYD4xJbvO"
    }
  ],
  "metadata": {
    "kernelspec": {
      "display_name": "Python 3 (ipykernel)",
      "language": "python",
      "name": "python3"
    },
    "language_info": {
      "codemirror_mode": {
        "name": "ipython",
        "version": 3
      },
      "file_extension": ".py",
      "mimetype": "text/x-python",
      "name": "python",
      "nbconvert_exporter": "python",
      "pygments_lexer": "ipython3",
      "version": "3.12.3"
    },
    "colab": {
      "provenance": [],
      "include_colab_link": true
    }
  },
  "nbformat": 4,
  "nbformat_minor": 5
}